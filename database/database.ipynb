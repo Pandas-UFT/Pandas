{
 "cells": [
  {
   "cell_type": "code",
   "execution_count": 1,
   "metadata": {},
   "outputs": [],
   "source": [
    "# Import Dependencies\n",
    "import psycopg2\n",
    "import csv\n",
    "from config import mypass"
   ]
  },
  {
   "cell_type": "markdown",
   "metadata": {},
   "source": [
    "#### Connect to Database"
   ]
  },
  {
   "cell_type": "code",
   "execution_count": 2,
   "metadata": {},
   "outputs": [
    {
     "name": "stdout",
     "output_type": "stream",
     "text": [
      "Opened successfully\n"
     ]
    }
   ],
   "source": [
    "# Connect to Database \n",
    "con = psycopg2.connect(user=\"postgres\", password=mypass, host=\"127.0.0.1\", port=\"5432\")\n",
    "\n",
    "print(\"Opened successfully\")"
   ]
  },
  {
   "cell_type": "code",
   "execution_count": 3,
   "metadata": {},
   "outputs": [],
   "source": [
    "con.autocommit = True\n",
    "\n",
    "cur = con.cursor()"
   ]
  },
  {
   "cell_type": "markdown",
   "metadata": {},
   "source": [
    "#### Create tables and load data"
   ]
  },
  {
   "cell_type": "code",
   "execution_count": 4,
   "metadata": {},
   "outputs": [
    {
     "name": "stdout",
     "output_type": "stream",
     "text": [
      "Database dropped\n",
      "Database created\n"
     ]
    }
   ],
   "source": [
    "# Create new flight database (drop old flights database if exists)\n",
    "\n",
    "try:\n",
    "    cur.execute('''DROP DATABASE flights;''')\n",
    "    print ('Database dropped')   \n",
    "except:\n",
    "    print ('Database does not exist')\n",
    "con.commit()\n",
    "\n",
    "\n",
    "try:\n",
    "    cur.execute('''CREATE DATABASE flights;''')\n",
    "    print(\"Database created\")   \n",
    "except:\n",
    "    print ('Database already exists')\n",
    "\n",
    "con.commit()\n"
   ]
  },
  {
   "cell_type": "code",
   "execution_count": 5,
   "metadata": {},
   "outputs": [],
   "source": [
    "# Close connection to database\n",
    "con.close()"
   ]
  },
  {
   "cell_type": "code",
   "execution_count": 6,
   "metadata": {},
   "outputs": [
    {
     "name": "stdout",
     "output_type": "stream",
     "text": [
      "Flights database opened successfully\n"
     ]
    }
   ],
   "source": [
    "# Connect to flight Database \n",
    "con = psycopg2.connect(database=\"flights\", user=\"postgres\", password=mypass, host=\"127.0.0.1\", port=\"5432\")\n",
    "\n",
    "print(\"Flights database opened successfully\")"
   ]
  },
  {
   "cell_type": "code",
   "execution_count": 7,
   "metadata": {},
   "outputs": [],
   "source": [
    "cur = con.cursor()"
   ]
  },
  {
   "cell_type": "code",
   "execution_count": 8,
   "metadata": {},
   "outputs": [
    {
     "name": "stdout",
     "output_type": "stream",
     "text": [
      "Flights table created successfully\n"
     ]
    }
   ],
   "source": [
    "# Create table flights\n",
    "\n",
    "cur.execute('''CREATE TABLE flights (\n",
    "    \"Unnamed: 0\" BIGINT,\n",
    "    month SMALLINT,\n",
    "    day SMALLINT,\n",
    "    day_of_week SMALLINT,\n",
    "    airline VARCHAR(2),\n",
    "    flight_number SMALLINT,\n",
    "    tail_number VARCHAR(6),\n",
    "    origin_airport VARCHAR(5),\n",
    "    destination_airport VARCHAR(5),\n",
    "    scheduled_departure SMALLINT,\n",
    "    departure_delay DECIMAL,\n",
    "    elapsed_time DECIMAL,\n",
    "    air_time DECIMAL,\n",
    "    distance SMALLINT,\n",
    "    wheels_on DECIMAL,\n",
    "    taxi_in DECIMAL,\n",
    "    scheduled_arrival SMALLINT,\n",
    "    arrival_time DECIMAL,\n",
    "    arrival_delay DECIMAL,\n",
    "    air_system_delay DECIMAL,\n",
    "    security_delay DECIMAL,\n",
    "    airline_delay DECIMAL,\n",
    "    late_aircraft_delay DECIMAL,\n",
    "    weather_delay DECIMAL,\n",
    "    PRIMARY KEY (\"Unnamed: 0\")\n",
    "    );''')\n",
    "\n",
    "con.commit()\n",
    "print(\"Flights table created successfully\")"
   ]
  },
  {
   "cell_type": "code",
   "execution_count": 9,
   "metadata": {},
   "outputs": [
    {
     "name": "stdout",
     "output_type": "stream",
     "text": [
      "Data loaded successfully\n"
     ]
    }
   ],
   "source": [
    "# Load csv into flights table\n",
    "\n",
    "with open('../resources/flights_cleaned.csv', 'r') as f:\n",
    "    next(f) # Skip the header row.\n",
    "    cur.copy_from(f, 'flights', sep=',', null='')    \n",
    "\n",
    "con.commit()\n",
    "print(\"Data loaded successfully\")"
   ]
  },
  {
   "cell_type": "code",
   "execution_count": 10,
   "metadata": {},
   "outputs": [
    {
     "name": "stdout",
     "output_type": "stream",
     "text": [
      "Airlines table created successfully\n"
     ]
    }
   ],
   "source": [
    "# Create table airlines\n",
    "cur.execute('''CREATE TABLE airlines (\n",
    "    iata_code VARCHAR(2),\n",
    "    airline VARCHAR(30),\n",
    "    PRIMARY KEY (iata_code)\n",
    ");''')\n",
    "\n",
    "con.commit()\n",
    "print(\"Airlines table created successfully\")"
   ]
  },
  {
   "cell_type": "code",
   "execution_count": 11,
   "metadata": {},
   "outputs": [
    {
     "name": "stdout",
     "output_type": "stream",
     "text": [
      "Data loaded successfully\n"
     ]
    }
   ],
   "source": [
    "# Load csv into airlines table\n",
    "\n",
    "with open('../resources/airlines.csv', 'r') as f:\n",
    "    next(f) # Skip the header row.\n",
    "    cur.copy_from(f, 'airlines', sep=',', null='')\n",
    "    \n",
    "con.commit()\n",
    "print(\"Data loaded successfully\")"
   ]
  },
  {
   "cell_type": "code",
   "execution_count": 12,
   "metadata": {},
   "outputs": [
    {
     "name": "stdout",
     "output_type": "stream",
     "text": [
      "Airports table created successfully\n"
     ]
    }
   ],
   "source": [
    "# Create table airports\n",
    "cur.execute('''CREATE TABLE airports (\n",
    "    iata_code VARCHAR(3),\n",
    "    airport VARCHAR(80),\n",
    "    city VARCHAR(35),\n",
    "    state VARCHAR(2),\n",
    "    country VARCHAR(3),\n",
    "    latitude DECIMAL,\n",
    "    longitude DECIMAL,\n",
    "    PRIMARY KEY (iata_code)\n",
    ");''')\n",
    "\n",
    "con.commit()\n",
    "print(\"Airports table created successfully\")"
   ]
  },
  {
   "cell_type": "code",
   "execution_count": 13,
   "metadata": {},
   "outputs": [
    {
     "name": "stdout",
     "output_type": "stream",
     "text": [
      "Data loaded successfully\n"
     ]
    }
   ],
   "source": [
    "# Load csv into airports table\n",
    "\n",
    "with open('../resources/airports.csv', 'r') as f:\n",
    "    next(f) # Skip the header row.\n",
    "    cur.copy_from(f, 'airports', sep=',', null=\"\")\n",
    "    \n",
    "con.commit()\n",
    "print(\"Data loaded successfully\")"
   ]
  },
  {
   "cell_type": "markdown",
   "metadata": {},
   "source": [
    "#### Join tables"
   ]
  },
  {
   "cell_type": "code",
   "execution_count": 14,
   "metadata": {},
   "outputs": [
    {
     "name": "stdout",
     "output_type": "stream",
     "text": [
      "Tables joined successfully\n"
     ]
    }
   ],
   "source": [
    "cur.execute('''SELECT f.\"Unnamed: 0\",\n",
    "    f.month,\n",
    "    f.day,\n",
    "    f.day_of_week,\n",
    "    f.airline,\n",
    "    f.flight_number,\n",
    "    f.tail_number,\n",
    "    f.origin_airport,\n",
    "    a.state as origin_state,\n",
    "    f.destination_airport,\n",
    "    ai.state as destination_state,\n",
    "    f.distance,\n",
    "    f.departure_delay,\n",
    "    f.arrival_delay\n",
    "INTO flights_state\n",
    "FROM flights as f\n",
    "    LEFT JOIN airports as a\n",
    "    ON (f.origin_airport = a.iata_code)\n",
    "    LEFT JOIN airports as ai\n",
    "    ON (f.destination_airport = ai.iata_code)\n",
    ";''')\n",
    "\n",
    "con.commit()\n",
    "print('Tables joined successfully')"
   ]
  },
  {
   "cell_type": "code",
   "execution_count": 15,
   "metadata": {},
   "outputs": [
    {
     "name": "stdout",
     "output_type": "stream",
     "text": [
      "Tables joined successfully\n"
     ]
    }
   ],
   "source": [
    "cur.execute('''SELECT f.\"Unnamed: 0\" as flight_id,\n",
    "    f.month,\n",
    "    f.day,\n",
    "    f.day_of_week,\n",
    "    f.airline,\n",
    "    al.airline as airline_name,\n",
    "    f.flight_number,\n",
    "    f.tail_number,\n",
    "    f.origin_airport,\n",
    "    ar.airport as origin_airport_name,\n",
    "    f.destination_airport,\n",
    "    arp.airport as destination_airport_name,\n",
    "    f.scheduled_departure,\n",
    "    f.departure_delay,\n",
    "    f.elapsed_time,\n",
    "    f.air_time,\n",
    "    f.distance,\n",
    "    f.wheels_on,\n",
    "    f.taxi_in,\n",
    "    f.scheduled_arrival,\n",
    "    f.arrival_time,\n",
    "    f.arrival_delay,\n",
    "    f.air_system_delay,\n",
    "    f.security_delay,\n",
    "    f.airline_delay,\n",
    "    f.late_aircraft_delay,\n",
    "    f.weather_delay\n",
    "INTO flights_complete\n",
    "FROM flights as f\n",
    "    LEFT JOIN airlines as al\n",
    "    ON (f.airline = al.iata_code)\n",
    "    LEFT JOIN airports as ar\n",
    "    ON (f.origin_airport = ar.iata_code)\n",
    "    LEFT JOIN airports as arp\n",
    "    ON (f.destination_airport = arp.iata_code);''')\n",
    "\n",
    "con.commit()\n",
    "print('Tables joined successfully')"
   ]
  },
  {
   "cell_type": "markdown",
   "metadata": {},
   "source": [
    "#### Create another table with a random sample of 10,000 rows, for the dashboard"
   ]
  },
  {
   "cell_type": "code",
   "execution_count": 17,
   "metadata": {},
   "outputs": [],
   "source": [
    "# cur.execute('''\n",
    "#     CREATE TABLE flights_complete_sample AS\n",
    "#     (SELECT * FROM flights_complete \n",
    "#     ORDER BY RANDOM() \n",
    "#     LIMIT 9999);\n",
    "# ''')\n",
    "# con.commit()\n",
    "# print('Table created successfully')"
   ]
  },
  {
   "cell_type": "markdown",
   "metadata": {},
   "source": [
    "#### Close connection to database"
   ]
  },
  {
   "cell_type": "code",
   "execution_count": 18,
   "metadata": {},
   "outputs": [
    {
     "name": "stdout",
     "output_type": "stream",
     "text": [
      "Closed successfully\n"
     ]
    }
   ],
   "source": [
    "# Close connection to database\n",
    "con.close()\n",
    "print(\"Closed successfully\")"
   ]
  },
  {
   "cell_type": "code",
   "execution_count": null,
   "metadata": {},
   "outputs": [],
   "source": []
  }
 ],
 "metadata": {
  "kernelspec": {
   "display_name": "PythonData",
   "language": "python",
   "name": "pythondata"
  },
  "language_info": {
   "codemirror_mode": {
    "name": "ipython",
    "version": 3
   },
   "file_extension": ".py",
   "mimetype": "text/x-python",
   "name": "python",
   "nbconvert_exporter": "python",
   "pygments_lexer": "ipython3",
   "version": "3.7.7"
  }
 },
 "nbformat": 4,
 "nbformat_minor": 4
}
